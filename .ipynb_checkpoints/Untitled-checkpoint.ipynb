{
 "cells": [
  {
   "cell_type": "code",
   "execution_count": 1,
   "id": "30ec1850-34d0-459d-8ecf-bf3e3b6b4749",
   "metadata": {},
   "outputs": [
    {
     "name": "stdout",
     "output_type": "stream",
     "text": [
      "72\n",
      "101\n"
     ]
    }
   ],
   "source": [
    "data = b'Hello, world!'\n",
    "print(data[0])  # Accessing the first byte\n",
    "print(data[1])"
   ]
  },
  {
   "cell_type": "code",
   "execution_count": 6,
   "id": "d88079a7-5ff1-469a-b9c5-6a90e6e63cc1",
   "metadata": {},
   "outputs": [
    {
     "name": "stdout",
     "output_type": "stream",
     "text": [
      "3\n"
     ]
    }
   ],
   "source": [
    "import json\n",
    "data = b'{\"d\":\"3\",\"h\":\"3\",\"bw\":\"3\",\"M\":\"3\",\"concrete\":\"concrete 1\",\"steel\":\"Steel 1\",\"armaduraTransversal\":\"5 \\xcf\\x86\"}'\n",
    "decoded_string = data.decode('utf-8')\n",
    "\n",
    "print(json.load(decoded_string[6]))"
   ]
  },
  {
   "cell_type": "code",
   "execution_count": null,
   "id": "f39cddc2-3edf-4f4d-a447-10a532b95060",
   "metadata": {},
   "outputs": [],
   "source": []
  }
 ],
 "metadata": {
  "kernelspec": {
   "display_name": "Python 3 (ipykernel)",
   "language": "python",
   "name": "python3"
  },
  "language_info": {
   "codemirror_mode": {
    "name": "ipython",
    "version": 3
   },
   "file_extension": ".py",
   "mimetype": "text/x-python",
   "name": "python",
   "nbconvert_exporter": "python",
   "pygments_lexer": "ipython3",
   "version": "3.11.7"
  }
 },
 "nbformat": 4,
 "nbformat_minor": 5
}
